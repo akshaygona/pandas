{
 "cells": [
  {
   "cell_type": "code",
   "execution_count": 1,
   "id": "891649a9-fad7-4cba-bc14-c89628976843",
   "metadata": {},
   "outputs": [
    {
     "name": "stderr",
     "output_type": "stream",
     "text": [
      "/tmp/ipykernel_75186/3860582105.py:5: DeprecationWarning: \n",
      "Pyarrow will become a required dependency of pandas in the next major release of pandas (pandas 3.0),\n",
      "(to allow more performant data types, such as the Arrow string type, and better interoperability with other libraries)\n",
      "but was not found to be installed on your system.\n",
      "If this would cause problems for you,\n",
      "please provide us feedback at https://github.com/pandas-dev/pandas/issues/54466\n",
      "        \n",
      "  import pandas\n"
     ]
    }
   ],
   "source": [
    "#import statements\n",
    "import copy\n",
    "import json\n",
    "import os\n",
    "import pandas\n",
    "import subprocess\n",
    "from subprocess import check_output\n",
    "import time\n",
    "import numpy"
   ]
  },
  {
   "cell_type": "code",
   "execution_count": 2,
   "id": "0e709abb-806f-41a9-8694-1346ca9dab7e",
   "metadata": {
    "scrolled": true
   },
   "outputs": [
    {
     "data": {
      "text/plain": [
       "float"
      ]
     },
     "execution_count": 2,
     "metadata": {},
     "output_type": "execute_result"
    }
   ],
   "source": [
    "#Q1\n",
    "type(7/2)"
   ]
  },
  {
   "cell_type": "code",
   "execution_count": 3,
   "id": "61cdfce8-f456-46c2-89a9-6be8a89e0be6",
   "metadata": {},
   "outputs": [
    {
     "data": {
      "text/plain": [
       "True"
      ]
     },
     "execution_count": 3,
     "metadata": {},
     "output_type": "execute_result"
    }
   ],
   "source": [
    "#Q2\n",
    "x = 4\n",
    "maximum = 10\n",
    "minimum = 5\n",
    "error = (((x < 5) | (x > 10))) # True if x is outside the minimum-to-maximum range\n",
    "error\n"
   ]
  },
  {
   "cell_type": "code",
   "execution_count": 4,
   "id": "f219f554-67b2-4108-8481-8833a1b2b6a7",
   "metadata": {},
   "outputs": [
    {
     "data": {
      "text/plain": [
       "True"
      ]
     },
     "execution_count": 4,
     "metadata": {},
     "output_type": "execute_result"
    }
   ],
   "source": [
    "#Q3\n",
    "word = \"KAFKAESQUE\"\n",
    "suffix_match = (word[-5:] == \"ESQUE\") # .endswith(...) method not allowed for this question! (practice slicing)\n",
    "suffix_match\n"
   ]
  },
  {
   "cell_type": "code",
   "execution_count": 5,
   "id": "e7dcacd1-9341-41a7-b7ab-a27a5e199904",
   "metadata": {},
   "outputs": [
    {
     "data": {
      "text/plain": [
       "False"
      ]
     },
     "execution_count": 5,
     "metadata": {},
     "output_type": "execute_result"
    }
   ],
   "source": [
    "#Q4\n",
    "def check_sum(n=0,m=0,x=0):\n",
    "    if (n + m) == x:\n",
    "        return True\n",
    "    else:\n",
    "        return False\n",
    "\n",
    "check_sum(n=0.1,m=0.2,x=0.3)"
   ]
  },
  {
   "cell_type": "code",
   "execution_count": 6,
   "id": "b56b4013-6f69-4926-8ebd-15dfbb619395",
   "metadata": {},
   "outputs": [
    {
     "data": {
      "text/plain": [
       "True"
      ]
     },
     "execution_count": 6,
     "metadata": {},
     "output_type": "execute_result"
    }
   ],
   "source": [
    "#Q5\n",
    "check_sum(-1, 1)"
   ]
  },
  {
   "cell_type": "code",
   "execution_count": 7,
   "id": "decaa9dd-c075-4b22-a454-5a5641f8a644",
   "metadata": {},
   "outputs": [
    {
     "data": {
      "text/plain": [
       "'even'"
      ]
     },
     "execution_count": 7,
     "metadata": {},
     "output_type": "execute_result"
    }
   ],
   "source": [
    "#Q6\n",
    "x = 4\n",
    "if x % 2 == 1:\n",
    "    status = \"odd\"\n",
    "elif x % 2 == 0:\n",
    "    status = \"even\"\n",
    "else:\n",
    "    status = \"non-integer\"\n",
    "status"
   ]
  },
  {
   "cell_type": "code",
   "execution_count": 8,
   "id": "4c6f7185-daa8-4896-832a-751d2409c92a",
   "metadata": {},
   "outputs": [
    {
     "data": {
      "text/plain": [
       "14"
      ]
     },
     "execution_count": 8,
     "metadata": {},
     "output_type": "execute_result"
    }
   ],
   "source": [
    "#Q7\n",
    "nums = [3, 4, 1, 6]\n",
    "#for x in nums:\n",
    "#    print(x)\n",
    "def smart_sum(nums):\n",
    "    total = 0\n",
    "    for i in nums:\n",
    "        if i < 0:\n",
    "            continue\n",
    "        else:\n",
    "            total += i\n",
    "            if total > 20:\n",
    "                break\n",
    "    return total\n",
    "smart_sum(nums)"
   ]
  },
  {
   "cell_type": "code",
   "execution_count": 9,
   "id": "441274f4-66a0-4435-8cd5-3b5a9e956efb",
   "metadata": {},
   "outputs": [
    {
     "data": {
      "text/plain": [
       "21"
      ]
     },
     "execution_count": 9,
     "metadata": {},
     "output_type": "execute_result"
    }
   ],
   "source": [
    "#Q8\n",
    "smart_sum([2, 1, -11, 3, 15, -1, 8, 2])"
   ]
  },
  {
   "cell_type": "code",
   "execution_count": 10,
   "id": "3b981007-92be-4d8e-86a9-d6d63192b44e",
   "metadata": {},
   "outputs": [],
   "source": [
    "header = [\"A\", \"B\", \"C\"]\n",
    "\n",
    "coord1 = {\"x\": 8, \"y\": 5}\n",
    "coord2 = {\"x\": 9, \"y\": 2, \"z\" : 4}\n",
    "coord3 = {\"x\": 3, \"y\": 1, \"z\" : 7}\n",
    "\n",
    "rows = [\n",
    "    [1, 6, 7, 8, coord1],\n",
    "    [3, 4, 9, coord2],\n",
    "    [5, 2, coord3],\n",
    "]"
   ]
  },
  {
   "cell_type": "code",
   "execution_count": 11,
   "id": "dfe94ac5-6d0e-4f45-8b56-003399cf30d3",
   "metadata": {},
   "outputs": [
    {
     "data": {
      "text/plain": [
       "[[1, 6, 7, 8, {'x': 8, 'y': 5}],\n",
       " [3, 4, 9, {'x': 9, 'y': 2, 'z': 4}],\n",
       " [5, 2, {'x': 3, 'y': 1, 'z': 7, 'w': 6}]]"
      ]
     },
     "execution_count": 11,
     "metadata": {},
     "output_type": "execute_result"
    }
   ],
   "source": [
    "#Q9\n",
    "coord3[\"w\"] = 6\n",
    "rows"
   ]
  },
  {
   "cell_type": "code",
   "execution_count": 12,
   "id": "740e0914-7585-4698-b5e3-f20f6d5aab8d",
   "metadata": {},
   "outputs": [
    {
     "data": {
      "text/plain": [
       "8"
      ]
     },
     "execution_count": 12,
     "metadata": {},
     "output_type": "execute_result"
    }
   ],
   "source": [
    "#Q10\n",
    "rows[0][-1][\"x\"]"
   ]
  },
  {
   "cell_type": "code",
   "execution_count": 13,
   "id": "bbbeefe8-26d1-4683-8635-75fb55e22f4c",
   "metadata": {},
   "outputs": [
    {
     "data": {
      "text/plain": [
       "[[1, 6, 7, 8, {'x': 8, 'y': 5}],\n",
       " [3, 404, 9, {'x': 9, 'y': 2, 'z': 4}],\n",
       " [5, 2, {'x': 3, 'y': 1, 'z': 7, 'w': 6}]]"
      ]
     },
     "execution_count": 13,
     "metadata": {},
     "output_type": "execute_result"
    }
   ],
   "source": [
    "#Q11\n",
    "v2 = copy.copy(rows)\n",
    "v2[0] = 404    # first change\n",
    "v2[1][1] = 404 # second change\n",
    "rows"
   ]
  },
  {
   "cell_type": "code",
   "execution_count": 14,
   "id": "ec42c6de-08d5-4093-b8f3-42a0f999cd8d",
   "metadata": {},
   "outputs": [
    {
     "data": {
      "text/plain": [
       "412"
      ]
     },
     "execution_count": 14,
     "metadata": {},
     "output_type": "execute_result"
    }
   ],
   "source": [
    "#Q12\n",
    "b_index = header.index(\"B\")\n",
    "total = sum(row[b_index] for row in rows)\n",
    "total"
   ]
  },
  {
   "cell_type": "code",
   "execution_count": 15,
   "id": "397c6929-7992-41fc-9329-4043314cc37d",
   "metadata": {},
   "outputs": [
    {
     "data": {
      "text/plain": [
       "[[5, 2, {'x': 3, 'y': 1, 'z': 7, 'w': 6}],\n",
       " [1, 6, 7, 8, {'x': 8, 'y': 5}],\n",
       " [3, 404, 9, {'x': 9, 'y': 2, 'z': 4}]]"
      ]
     },
     "execution_count": 15,
     "metadata": {},
     "output_type": "execute_result"
    }
   ],
   "source": [
    "#Q13 \n",
    "def get_column_a(row):\n",
    "    return row[header.index(\"B\")]\n",
    "\n",
    "rows.sort(key=get_column_a, reverse = False)\n",
    "rows"
   ]
  },
  {
   "cell_type": "code",
   "execution_count": 16,
   "id": "490a8c50-bff9-4c54-b0b0-ec465ea6c6e7",
   "metadata": {},
   "outputs": [
    {
     "data": {
      "text/plain": [
       "1345.67"
      ]
     },
     "execution_count": 16,
     "metadata": {},
     "output_type": "execute_result"
    }
   ],
   "source": [
    "#Q14\n",
    "f = open(\"usd.json\")\n",
    "data = f.read()\n",
    "f.close()\n",
    "\n",
    "#print(type(data))\n",
    "#print(data[:300] + \"...\")\n",
    "\n",
    "x = json.loads(data)\n",
    "y = x['cad']['rate']\n",
    "z = round(1000 * y,2)\n",
    "z\n",
    "\n"
   ]
  },
  {
   "cell_type": "code",
   "execution_count": 17,
   "id": "8b8fa32c-6678-4a03-bf56-7e34bfec129d",
   "metadata": {},
   "outputs": [
    {
     "data": {
      "text/plain": [
       "1.5"
      ]
     },
     "execution_count": 17,
     "metadata": {},
     "output_type": "execute_result"
    }
   ],
   "source": [
    "#Q15\n",
    "def divide(x,y):\n",
    "    msg = float('nan')\n",
    "    try:\n",
    "        result = x/y\n",
    "        return result\n",
    "    except ZeroDivisionError:\n",
    "        return msg\n",
    "\n",
    "divide(6,4)"
   ]
  },
  {
   "cell_type": "code",
   "execution_count": 18,
   "id": "1e2ad464-27e8-4ca8-9ca5-fed2ca381036",
   "metadata": {},
   "outputs": [
    {
     "data": {
      "text/plain": [
       "nan"
      ]
     },
     "execution_count": 18,
     "metadata": {},
     "output_type": "execute_result"
    }
   ],
   "source": [
    "#Q16\n",
    "divide(0,0)"
   ]
  },
  {
   "cell_type": "code",
   "execution_count": 19,
   "id": "5b1e2757-7caa-4f2d-b0d7-a0d9c063c6db",
   "metadata": {},
   "outputs": [
    {
     "data": {
      "text/plain": [
       "[2013, 2014, 2015, 2016, 2017, 2018, 2019, 2020, 2021]"
      ]
     },
     "execution_count": 19,
     "metadata": {},
     "output_type": "execute_result"
    }
   ],
   "source": [
    "#Q17\n",
    "directory = ('/home/akshaygona/machine-projects-labs/mp1/home-computers')\n",
    "years = {}\n",
    "\n",
    "for filename in os.listdir(directory):\n",
    "    if filename.endswith(\".csv\"):\n",
    "        year = int(filename.split('.')[0][-4:])\n",
    "        df = pandas.read_csv(os.path.join(directory, filename), skiprows=1)\n",
    "        df.set_index(\"Geographic Area Name\", inplace=True)\n",
    "        years[year] = df\n",
    "sorted_keys = sorted(years.keys())\n",
    "sorted_keys"
   ]
  },
  {
   "cell_type": "code",
   "execution_count": 20,
   "id": "c5bb5df1-d790-4c35-9a0b-b67d41348049",
   "metadata": {},
   "outputs": [
    {
     "data": {
      "text/plain": [
       "2401818"
      ]
     },
     "execution_count": 20,
     "metadata": {},
     "output_type": "execute_result"
    }
   ],
   "source": [
    "#Q18\n",
    "years[2021].at[\"Wisconsin\", \"Estimate!!Total\"]"
   ]
  },
  {
   "cell_type": "code",
   "execution_count": 21,
   "id": "8dcda4ba-2a51-4898-abdd-9b8306bc20c8",
   "metadata": {},
   "outputs": [
    {
     "data": {
      "text/plain": [
       "8902093"
      ]
     },
     "execution_count": 21,
     "metadata": {},
     "output_type": "execute_result"
    }
   ],
   "source": [
    "#Q19\n",
    "years[2021][\"Estimate!!Total!!No Computer\"].sum()"
   ]
  },
  {
   "cell_type": "code",
   "execution_count": 22,
   "id": "54bd33ea-0fb1-476d-816f-a1b8578c3713",
   "metadata": {},
   "outputs": [
    {
     "data": {
      "text/plain": [
       "0.07836701790752577"
      ]
     },
     "execution_count": 22,
     "metadata": {},
     "output_type": "execute_result"
    }
   ],
   "source": [
    "#Q20\n",
    "((years[2021][\"Margin of Error!!Total!!No Computer\"])/(years[2021][\"Estimate!!Total!!No Computer\"])).max()"
   ]
  },
  {
   "cell_type": "code",
   "execution_count": 23,
   "id": "1b6df5f7-9ba5-4dac-bed1-35f9e4ddef9f",
   "metadata": {},
   "outputs": [
    {
     "data": {
      "text/plain": [
       "{'Illinois': 7.351100500886871,\n",
       " 'Indiana': 8.300995843439395,\n",
       " 'Iowa': 8.302263591069158,\n",
       " 'Michigan': 7.579772219831928,\n",
       " 'Minnesota': 6.1777398950248985,\n",
       " 'Wisconsin': 8.029750797104526}"
      ]
     },
     "execution_count": 23,
     "metadata": {},
     "output_type": "execute_result"
    }
   ],
   "source": [
    "#Q21\n",
    "states = [\"Illinois\", \"Indiana\", \"Iowa\", \"Michigan\", \"Minnesota\", \"Wisconsin\"]\n",
    "noComputer = {}\n",
    "for x in states:\n",
    "    noComputer[x] = ((years[2021].at[x, \"Estimate!!Total!!No Computer\"])/(years[2021].at[x, \"Estimate!!Total\"]))*100\n",
    "noComputer"
   ]
  },
  {
   "cell_type": "code",
   "execution_count": 24,
   "id": "7d6dde5a-a2bd-4304-802f-7a9fdcc05a88",
   "metadata": {},
   "outputs": [
    {
     "data": {
      "text/plain": [
       "<Axes: xlabel='Geographic Area Name', ylabel='% of Households w/o Computers'>"
      ]
     },
     "execution_count": 24,
     "metadata": {},
     "output_type": "execute_result"
    },
    {
     "data": {
      "image/png": "[encoded data removed]",
      "text/plain": [
       "<Figure size 640x480 with 1 Axes>"
      ]
     },
     "metadata": {},
     "output_type": "display_data"
    }
   ],
   "source": [
    "#Q22\n",
    "(((years[2021][\"Estimate!!Total!!No Computer\"])/(years[2021][\"Estimate!!Total\"]))*100).loc[states].plot.bar(ylabel=\"% of Households w/o Computers\")"
   ]
  },
  {
   "cell_type": "code",
   "execution_count": 25,
   "id": "df9e5ea3-bf69-436c-ab94-abad7d33414f",
   "metadata": {},
   "outputs": [
    {
     "data": {
      "text/plain": [
       "<Axes: xlabel='Year', ylabel='WI Households without Computers (thousands)'>"
      ]
     },
     "execution_count": 25,
     "metadata": {},
     "output_type": "execute_result"
    },
    {
     "data": {
      "image/png": "[encoded data removed]",
      "text/plain": [
       "<Figure size 640x480 with 1 Axes>"
      ]
     },
     "metadata": {},
     "output_type": "display_data"
    }
   ],
   "source": [
    "#Q23\n",
    "data = []\n",
    "for x in sorted(list(years.keys())):\n",
    "    data.append([x, years[x].at[\"Wisconsin\", \"Estimate!!Total!!No Computer\"]/1000])\n",
    "df = pandas.DataFrame(data, columns = [\"Year\", \"WI Households without Computers (thousands)\"]).set_index(\"Year\")\n",
    "df.plot.line(ylabel=\"WI Households without Computers (thousands)\")"
   ]
  },
  {
   "cell_type": "code",
   "execution_count": 26,
   "id": "c028e780-e6ae-4366-9a2b-8d3772e00b56",
   "metadata": {},
   "outputs": [
    {
     "data": {
      "text/plain": [
       "<Axes: xlabel='Smartphones (millions)', ylabel='Tablets (millions)'>"
      ]
     },
     "execution_count": 26,
     "metadata": {},
     "output_type": "execute_result"
    },
    {
     "data": {
      "image/png": "[encoded data removed]",
      "text/plain": [
       "<Figure size 640x480 with 1 Axes>"
      ]
     },
     "metadata": {},
     "output_type": "display_data"
    }
   ],
   "source": [
    "#Q24\n",
    "df = pandas.concat([(years[2021][\"Estimate!!Total!!Has one or more types of computing devices!!Smartphone\"]/1e6),(years[2021][\"Estimate!!Total!!Has one or more types of computing devices!!Tablet or other portable wireless computer\"]/1e6)], axis = 1)\n",
    "df.plot.scatter(x=\"Estimate!!Total!!Has one or more types of computing devices!!Smartphone\", y = \"Estimate!!Total!!Has one or more types of computing devices!!Tablet or other portable wireless computer\", xlabel = \"Smartphones (millions)\", ylabel = \"Tablets (millions)\")"
   ]
  },
  {
   "cell_type": "code",
   "execution_count": 27,
   "id": "ba68a44b-45fc-4d19-bfbc-ade4ef7b8853",
   "metadata": {},
   "outputs": [
    {
     "name": "stderr",
     "output_type": "stream",
     "text": [
      "Previous HEAD position was f8789197 With -> with in headline\n",
      "Switched to branch 'main'\n"
     ]
    },
    {
     "data": {
      "text/plain": [
       "'commit 660994efc761efdfd49ca442b73f6712dc77b6cf'"
      ]
     },
     "execution_count": 27,
     "metadata": {},
     "output_type": "execute_result"
    }
   ],
   "source": [
    "#Q25\n",
    "check_output(\"git checkout main\", cwd=\"flask\", shell = True)\n",
    "output = str(check_output(\"git log\", cwd=\"flask\", shell = True),\"utf-8\")\n",
    "log = output.split('\\n')\n",
    "log[0]"
   ]
  },
  {
   "cell_type": "code",
   "execution_count": 28,
   "id": "ab5b63cf-d269-4bf2-8e4a-31261157e2e7",
   "metadata": {},
   "outputs": [
    {
     "data": {
      "text/plain": [
       "['a9d4ea81da28ee9c894bf9d45adc4cfa9d52fddc',\n",
       " '727c701686c18c4a27ca523eb0c5862d497be24e',\n",
       " '4edec48b74dbb9d571e927b69b24c30ec0624975',\n",
       " '625eba4bb403296a8bbc1e72cc9cf4a5126f6c02',\n",
       " '4aa76212d1be9b17a57249549c2a73fb10b6cda8',\n",
       " '3b36bef2e6165bb4dad73d17f23ee1879e99f497',\n",
       " '44b42e0fbd93d86e0f4e929bda8e5fb63e81035d',\n",
       " '4ec7d2a0d8eac4f915dc0d38a886cd57045bb0c4',\n",
       " 'b15ad394279fc3b7f998fa56857f334a7c0156f6',\n",
       " '33850c0ebd23ae615e6823993d441f46d80b1ff0']"
      ]
     },
     "execution_count": 28,
     "metadata": {},
     "output_type": "execute_result"
    }
   ],
   "source": [
    "#Q26\n",
    "pwd_output = subprocess.check_output([\"git\", \"log\", \"--format=%H\"], cwd=\"flask\").decode(\"utf-8\")\n",
    "commits = pwd_output.strip().split('\\n')\n",
    "last_10_commits = commits[-10:]\n",
    "last_10_commits\n"
   ]
  },
  {
   "cell_type": "code",
   "execution_count": 29,
   "id": "d34ceb41-2123-4944-94b3-2a8ae0e511a0",
   "metadata": {},
   "outputs": [
    {
     "name": "stderr",
     "output_type": "stream",
     "text": [
      "Note: switching to 'f878919753a909e45b2d5448aa175f4f9129ff24'.\n",
      "\n",
      "You are in 'detached HEAD' state. You can look around, make experimental\n",
      "changes and commit them, and you can discard any commits you make in this\n",
      "state without impacting any branches by switching back to a branch.\n",
      "\n",
      "If you want to create a new branch to retain commits you create, you may\n",
      "do so (now or later) by using -c with the switch command. Example:\n",
      "\n",
      "  git switch -c <new-branch-name>\n",
      "\n",
      "Or undo this operation with:\n",
      "\n",
      "  git switch -\n",
      "\n",
      "Turn off this advice by setting config variable advice.detachedHead to false\n",
      "\n",
      "HEAD is now at f8789197 With -> with in headline\n"
     ]
    },
    {
     "data": {
      "text/plain": [
       "\"\\n                          // Flask //\\n\\n         because sometimes a pocket knife is not enough\\n\\n\\n    ~ What is Flask?\\n\\n      Flask is a microframework for Python based on Werkzeug\\n      and Jinja2.  It's intended for small scale applications\\n      and was development with best intentions in mind.\\n\\n    ~ Is it ready?\\n\\n      A preview release is out now, and I'm hoping for some\\n      input about what you want from a microframework and\\n      how it should look like.  Consider the API to slightly\\n      improve over time.\\n\\n    ~ What do I need?\\n\\n      Jinja 2.4 and Werkzeug 0.6.1.  `easy_install` will\\n      install them for you if you do `easy_install Flask==dev`.\\n      I encourage you to use a virtualenv.  Check the docs for\\n      complete installation and usage instructions.\\n\\n    ~ Where are the docs?\\n\\n      Go to http://flask.pocoo.org/ for a prebuild version of\\n      the current documentation.  Otherwise build them yourself\\n      from the sphinx sources in the docs folder.\\n\""
      ]
     },
     "execution_count": 29,
     "metadata": {},
     "output_type": "execute_result"
    }
   ],
   "source": [
    "#Q27\n",
    "\n",
    "pwd_output = check_output([\"git\", \"checkout\",commits[-100]], cwd = \"flask\")\n",
    "f = open(\"flask/README\", \"r\")\n",
    "readMe = f.read()\n",
    "f.close()\n",
    "readMe"
   ]
  },
  {
   "cell_type": "code",
   "execution_count": 30,
   "id": "345a71d6-c413-4969-8580-2e717e58fbd8",
   "metadata": {},
   "outputs": [
    {
     "data": {
      "text/plain": [
       "{'pallets': 204,\n",
       " 'pgjones': 14,\n",
       " 'greyli': 42,\n",
       " 'ThiefMaster': 11,\n",
       " 'davidism': 45,\n",
       " 'untitaker': 20,\n",
       " 'ThomasWaldmann': 13,\n",
       " 'SimonSapin': 11}"
      ]
     },
     "execution_count": 30,
     "metadata": {},
     "output_type": "execute_result"
    }
   ],
   "source": [
    "#Q28\n",
    "pull = {}\n",
    "for x in log:\n",
    "    if (\"Merge pull request\" in x) and (\"/\" in x):\n",
    "        user = x[(x.index(\"from\")+5):x.index(\"/\")]\n",
    "        if user in pull:\n",
    "            pull[user] += 1\n",
    "        else:\n",
    "            pull[user] = 1 \n",
    "            \n",
    "z = {k: v for k, v in pull.items() if v >= 10}\n",
    "z"
   ]
  },
  {
   "cell_type": "code",
   "execution_count": 31,
   "id": "2f2bdf1d-0857-420b-9247-4332d0824359",
   "metadata": {},
   "outputs": [
    {
     "data": {
      "text/plain": [
       "'ERROR: unknown command \"instal\" - maybe you meant \"install\"\\n'"
      ]
     },
     "execution_count": 31,
     "metadata": {},
     "output_type": "execute_result"
    }
   ],
   "source": [
    "#Q29\n",
    "output = \"\"\n",
    "try:\n",
    "    msg = check_output([\"pip3\", \"instal\"], stderr=subprocess.STDOUT)\n",
    "except subprocess.CalledProcessError as e:\n",
    "    msg = e.output\n",
    "    output = str(msg, \"utf-8\")\n",
    "output"
   ]
  },
  {
   "cell_type": "code",
   "execution_count": 32,
   "id": "c9a6f57e-e3bb-4aaa-88fe-4e6bfa5049c2",
   "metadata": {},
   "outputs": [
    {
     "data": {
      "text/plain": [
       "<Axes: xlabel='Rows', ylabel='Milliseconds'>"
      ]
     },
     "execution_count": 32,
     "metadata": {},
     "output_type": "execute_result"
    },
    {
     "data": {
      "image/png": "[encoded data removed]",
      "text/plain": [
       "<Figure size 640x480 with 1 Axes>"
      ]
     },
     "metadata": {},
     "output_type": "display_data"
    }
   ],
   "source": [
    "#Q30\n",
    "\n",
    "def rand_df(rows):\n",
    "    return pandas.DataFrame(numpy.random.randint(10, size=(rows, 5)),\n",
    "                        columns=[\"A\", \"B\", \"C\", \"D\", \"E\"],\n",
    "                        index=[f\"r{i}\" for i in range(1, rows+1)])\n",
    "\n",
    "def getIterrowsTime(df):\n",
    "    t0 = time.time()\n",
    "    for row in df.iterrows():\n",
    "        pass\n",
    "    t1 = time.time()\n",
    "    return (t1-t0)*1e3\n",
    "\n",
    "def getItertuplesTime(df):\n",
    "    t0 = time.time()\n",
    "    for row in df.itertuples():\n",
    "        pass\n",
    "    t1 = time.time()\n",
    "    return (t1-t0)*1e3\n",
    "\n",
    "\n",
    "times_df = pandas.DataFrame(dtype=float)\n",
    "\n",
    "for x in range(1,10):\n",
    "    randdf = rand_df(x*1000)\n",
    "    times_df.at[x*1000, \"Iterrows\"] = getIterrowsTime(randdf)\n",
    "    times_df.at[x*1000, \"Itertuples\"] = getItertuplesTime(randdf)\n",
    "    \n",
    "times_df.plot.line(xlabel = \"Rows\", ylabel = \"Milliseconds\")"
   ]
  },
  {
   "cell_type": "code",
   "execution_count": 33,
   "id": "3497721d-aff5-48ba-bfbf-f30db471daa1",
   "metadata": {},
   "outputs": [
    {
     "data": {
      "text/plain": [
       "<Axes: xlabel='Rows', ylabel='Milliseconds'>"
      ]
     },
     "execution_count": 33,
     "metadata": {},
     "output_type": "execute_result"
    },
    {
     "data": {
      "image/png": "[encoded data removed]",
      "text/plain": [
       "<Figure size 640x480 with 1 Axes>"
      ]
     },
     "metadata": {},
     "output_type": "display_data"
    }
   ],
   "source": [
    "#Q31\n",
    "def getAtTime(df):\n",
    "    t0 = time.time()\n",
    "    total = 0\n",
    "    for idx in df.index:\n",
    "        for col in df.columns:\n",
    "            total += df.at[idx, col]\n",
    "    t1 = time.time()\n",
    "    return (t1-t0)*1e3\n",
    "    \n",
    "def getLocTime(df):\n",
    "    t0 = time.time()\n",
    "    total = 0\n",
    "    for idx in df.index:\n",
    "        for col in df.columns:\n",
    "            total += df.loc[idx, col]\n",
    "    t1 = time.time()\n",
    "    return (t1-t0)*1e3\n",
    "\n",
    "times_df = pandas.DataFrame(dtype=float)\n",
    "\n",
    "for x in range(1,6):\n",
    "    randdf = rand_df(x*1000)\n",
    "    times_df.at[x*1000, \"loc\"] = getLocTime(randdf)\n",
    "    times_df.at[x*1000, \"at\"] = getAtTime(randdf)\n",
    "    \n",
    "times_df.plot.line(xlabel = \"Rows\", ylabel = \"Milliseconds\")"
   ]
  },
  {
   "cell_type": "code",
   "execution_count": 34,
   "id": "d5651442-9054-43de-bb14-8854fc3f84f0",
   "metadata": {},
   "outputs": [
    {
     "data": {
      "text/plain": [
       "<Axes: xlabel='Rows', ylabel='Milliseconds'>"
      ]
     },
     "execution_count": 34,
     "metadata": {},
     "output_type": "execute_result"
    },
    {
     "data": {
      "image/png": "[encoded data removed]",
      "text/plain": [
       "<Figure size 640x480 with 1 Axes>"
      ]
     },
     "metadata": {},
     "output_type": "display_data"
    }
   ],
   "source": [
    "#Q32\n",
    "\n",
    "def laugh(x):\n",
    "    return \"qwerty\" * x\n",
    "\n",
    "def getApplyTime(df):\n",
    "    t0 = time.time()\n",
    "    result = df[\"A\"].apply(laugh).tolist()\n",
    "    t1 = time.time()\n",
    "    return (t1-t0)*1e3\n",
    "\n",
    "def getLoopTime(df):\n",
    "    t0 = time.time()\n",
    "    result = []\n",
    "    for val in df[\"A\"]:\n",
    "        result.append(laugh(val))\n",
    "    t1 = time.time()\n",
    "    return (t1-t0)*1e3\n",
    "\n",
    "times_df = pandas.DataFrame(dtype=float)\n",
    "\n",
    "for x in range(1,100):\n",
    "    randdf = rand_df(x*1000)\n",
    "    times_df.at[x*1000, \"apply\"] = getApplyTime(randdf)\n",
    "    times_df.at[x*1000, \"loop\"] = getLoopTime(randdf)\n",
    "    \n",
    "times_df.plot.line(xlabel = \"Rows\", ylabel = \"Milliseconds\")"
   ]
  },
  {
   "cell_type": "code",
   "execution_count": null,
   "id": "788a13a9-7836-4c31-bd8c-ff4d04ed55e0",
   "metadata": {},
   "outputs": [],
   "source": []
  }
 ],
 "metadata": {
  "kernelspec": {
   "display_name": "Python 3 (ipykernel)",
   "language": "python",
   "name": "python3"
  },
  "language_info": {
   "codemirror_mode": {
    "name": "ipython",
    "version": 3
   },
   "file_extension": ".py",
   "mimetype": "text/x-python",
   "name": "python",
   "nbconvert_exporter": "python",
   "pygments_lexer": "ipython3",
   "version": "3.10.12"
  }
 },
 "nbformat": 4,
 "nbformat_minor": 5
}
