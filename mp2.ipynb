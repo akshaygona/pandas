{
 "cells": [
  {
   "cell_type": "code",
   "execution_count": 1,
   "id": "c2158128-bcc9-411a-abb2-ac505de48534",
   "metadata": {},
   "outputs": [
    {
     "name": "stderr",
     "output_type": "stream",
     "text": [
      "/tmp/ipykernel_654104/4171548680.py:12: DeprecationWarning: \n",
      "Pyarrow will become a required dependency of pandas in the next major release of pandas (pandas 3.0),\n",
      "(to allow more performant data types, such as the Arrow string type, and better interoperability with other libraries)\n",
      "but was not found to be installed on your system.\n",
      "If this would cause problems for you,\n",
      "please provide us feedback at https://github.com/pandas-dev/pandas/issues/54466\n",
      "        \n",
      "  import pandas\n"
     ]
    }
   ],
   "source": [
    "%load_ext autoreload\n",
    "%autoreload 2\n",
    "\n",
    "import loans\n",
    "from loans import Applicant\n",
    "from loans import Loan\n",
    "from loans import Bank\n",
    "import search\n",
    "from search import Node\n",
    "from search import BST\n",
    "import time\n",
    "import pandas"
   ]
  },
  {
   "cell_type": "code",
   "execution_count": 2,
   "id": "cc429890-df2a-4076-9c26-ed64bdb65106",
   "metadata": {},
   "outputs": [],
   "source": [
    "fhb = loans.Bank(\"First Home Bank\")"
   ]
  },
  {
   "cell_type": "code",
   "execution_count": 3,
   "id": "7f420254-fd91-4d4c-9031-b5a9c1c11cb8",
   "metadata": {},
   "outputs": [
    {
     "data": {
      "text/plain": [
       "2.962962962962963"
      ]
     },
     "execution_count": 3,
     "metadata": {},
     "output_type": "execute_result"
    }
   ],
   "source": [
    "#Q1\n",
    "amt = 0\n",
    "size = 0\n",
    "for loan in fhb.loansList:\n",
    "    if loan.interest_rate != -1:\n",
    "        size += 1\n",
    "        amt += loan.interest_rate\n",
    "    \n",
    "amt/size\n"
   ]
  },
  {
   "cell_type": "code",
   "execution_count": 4,
   "id": "4c3a2cf8-91d4-4385-a364-e55e5e0f9313",
   "metadata": {},
   "outputs": [
    {
     "data": {
      "text/plain": [
       "1.5777777777777777"
      ]
     },
     "execution_count": 4,
     "metadata": {},
     "output_type": "execute_result"
    }
   ],
   "source": [
    "#Q2\n",
    "total = 0\n",
    "for _ in fhb.loansList:\n",
    "    total += len(_.applicants)\n",
    "    \n",
    "total/len(fhb)"
   ]
  },
  {
   "cell_type": "code",
   "execution_count": 5,
   "id": "29ca373b-9c46-4de1-a141-267a1d69e7aa",
   "metadata": {},
   "outputs": [
    {
     "data": {
      "text/plain": [
       "{'65-74': 21, '45-54': 21, '>74': 5, '25-34': 4, '35-44': 13, '55-64': 7}"
      ]
     },
     "execution_count": 5,
     "metadata": {},
     "output_type": "execute_result"
    }
   ],
   "source": [
    "#Q3\n",
    "ages = {}\n",
    "for _ in fhb.loansList:\n",
    "    for a in _.applicants:\n",
    "        age = str(a.age)\n",
    "        if age in ages.keys():\n",
    "            ages[age] += 1\n",
    "        else:\n",
    "            if a.age != 9999:\n",
    "                ages[age] = 1\n",
    "ages"
   ]
  },
  {
   "cell_type": "code",
   "execution_count": 6,
   "id": "a854e93e-9548-45e7-b9d9-d08b75e18316",
   "metadata": {},
   "outputs": [],
   "source": [
    "t = search.BST()\n",
    "for _ in fhb.loansList:\n",
    "    t.add(_.interest_rate, _)"
   ]
  },
  {
   "cell_type": "code",
   "execution_count": 7,
   "id": "05612771-5e0d-4e52-b3de-32b909ab3f8c",
   "metadata": {},
   "outputs": [
    {
     "data": {
      "text/plain": [
       "18"
      ]
     },
     "execution_count": 7,
     "metadata": {},
     "output_type": "execute_result"
    }
   ],
   "source": [
    "#Q4\n",
    "len(t[-1])"
   ]
  },
  {
   "cell_type": "code",
   "execution_count": 8,
   "id": "9e59679c-a0d3-4ea2-8824-38e3e52cbfea",
   "metadata": {},
   "outputs": [
    {
     "data": {
      "text/plain": [
       "8"
      ]
     },
     "execution_count": 8,
     "metadata": {},
     "output_type": "execute_result"
    }
   ],
   "source": [
    "#Q5\n",
    "def height(root):\n",
    "    if root is None:\n",
    "        return 0\n",
    "    \n",
    "    left_height = height(root.left)\n",
    "    right_height = height(root.right)\n",
    "    \n",
    "    if left_height == 0 and right_height == 0:\n",
    "        return 1\n",
    "    \n",
    "    return max(left_height, right_height) + 1\n",
    "\n",
    "height(t.root) - 1"
   ]
  },
  {
   "cell_type": "code",
   "execution_count": 9,
   "id": "99b88731-f43b-48e2-9327-7c7b1e8f4bf3",
   "metadata": {},
   "outputs": [],
   "source": [
    "uwcu = loans.Bank(\"University of Wisconsin Credit Union\")\n",
    "tree = search.BST()"
   ]
  },
  {
   "cell_type": "code",
   "execution_count": 10,
   "id": "f8c2659e-96c1-4cd3-9924-110dba991c39",
   "metadata": {},
   "outputs": [
    {
     "data": {
      "text/plain": [
       "<Axes: xlabel='Loans', ylabel='Milliseconds'>"
      ]
     },
     "execution_count": 10,
     "metadata": {},
     "output_type": "execute_result"
    },
    {
     "data": {
      "image/png": "[encoded data removed]",
      "text/plain": [
       "<Figure size 640x480 with 1 Axes>"
      ]
     },
     "metadata": {},
     "output_type": "display_data"
    }
   ],
   "source": [
    "#Q6\n",
    "def getAddTime(loan):\n",
    "    t0 = time.time()\n",
    "    tree.add(loan.interest_rate, loan)\n",
    "    t1 = time.time()\n",
    "    return (t1 - t0) * 1e3\n",
    "\n",
    "times_df = pandas.DataFrame(columns=[\"AddTime\"], dtype=float)\n",
    "milliseconds = 0\n",
    "limit = 15000\n",
    "for count, loan in enumerate(uwcu.loansList):\n",
    "    milliseconds += getAddTime(loan)\n",
    "    if milliseconds > limit:\n",
    "        break\n",
    "    times_df.at[count + 1, \"AddTime\"] = milliseconds\n",
    "\n",
    "times_df.plot.line(xlabel=\"Loans\", ylabel=\"Milliseconds\", legend=None)"
   ]
  },
  {
   "cell_type": "code",
   "execution_count": 11,
   "id": "736b9310-8be8-4816-96b7-14884b080458",
   "metadata": {},
   "outputs": [
    {
     "data": {
      "text/plain": [
       "<Axes: ylabel='Milliseconds'>"
      ]
     },
     "execution_count": 11,
     "metadata": {},
     "output_type": "execute_result"
    },
    {
     "data": {
      "image/png": "[encoded data removed]",
      "text/plain": [
       "<Figure size 640x480 with 1 Axes>"
      ]
     },
     "metadata": {},
     "output_type": "display_data"
    }
   ],
   "source": [
    "#Q7\n",
    "def getLoopTime(loans):\n",
    "    t0 = time.time()\n",
    "    count = 0\n",
    "    for loan in loans:\n",
    "        if loan.interest_rate == -1:\n",
    "            count += 1\n",
    "    t1 = time.time()\n",
    "    return (t1-t0)*1e3\n",
    "\n",
    "def getBSTTime():\n",
    "    t0 = time.time()\n",
    "    len(tree[-1])\n",
    "    t1 = time.time()\n",
    "    return (t1-t0)*1e3\n",
    "\n",
    "times_df = pandas.DataFrame(dtype=float)\n",
    "times_df.at[\"Loop\", \"time\"] = getLoopTime(uwcu.loansList)\n",
    "times_df.at[\"BST\", \"time\"] = getBSTTime()\n",
    "times_df[\"time\"].plot.bar(ylabel=\"Milliseconds\")"
   ]
  },
  {
   "cell_type": "code",
   "execution_count": 12,
   "id": "bf4d3b52-88f2-4bd9-af80-965ca2354577",
   "metadata": {},
   "outputs": [
    {
     "data": {
      "text/plain": [
       "<Axes: xlabel='Number of Race Identities', ylabel='Number of Applicants'>"
      ]
     },
     "execution_count": 12,
     "metadata": {},
     "output_type": "execute_result"
    },
    {
     "data": {
      "image/png": "[encoded data removed]",
      "text/plain": [
       "<Figure size 640x480 with 1 Axes>"
      ]
     },
     "metadata": {},
     "output_type": "display_data"
    }
   ],
   "source": [
    "#Q8\n",
    "numRace = {}\n",
    "for loan in uwcu.loansList:\n",
    "    for applicant in loan.applicants:\n",
    "        num = len(applicant.race)\n",
    "        if num in numRace.keys():\n",
    "            numRace[num] += 1\n",
    "        else:\n",
    "            numRace[num] = 1\n",
    "            \n",
    "raceKeys = list(numRace.keys())\n",
    "raceKeys.sort()\n",
    "sorted_dict = {i: numRace[i] for i in raceKeys}\n",
    "\n",
    "series = pandas.Series(sorted_dict)\n",
    "series.plot.bar(xlabel = \"Number of Race Identities\", ylabel = \"Number of Applicants\")"
   ]
  },
  {
   "cell_type": "code",
   "execution_count": 13,
   "id": "8e7e93cb-d04c-4767-9277-6cca319fd54f",
   "metadata": {},
   "outputs": [
    {
     "data": {
      "text/plain": [
       "9"
      ]
     },
     "execution_count": 13,
     "metadata": {},
     "output_type": "execute_result"
    }
   ],
   "source": [
    "#Q9\n",
    "def numLeafNodes(root):\n",
    "    count = 0\n",
    "    if root.left == None and root.right == None:\n",
    "        return 1\n",
    "    if root.left != None:\n",
    "        count += numLeafNodes(root.left)\n",
    "    if root.right != None:\n",
    "        count += numLeafNodes(root.right)\n",
    "    return count\n",
    "numLeafNodes(tree.root)"
   ]
  },
  {
   "cell_type": "code",
   "execution_count": 14,
   "id": "75093b99-e13b-4d27-aa5a-56dd69c1f1a1",
   "metadata": {},
   "outputs": [
    {
     "data": {
      "text/plain": [
       "5.0"
      ]
     },
     "execution_count": 14,
     "metadata": {},
     "output_type": "execute_result"
    }
   ],
   "source": [
    "#Q10\n",
    "def topNKeys(node, n):\n",
    "    topList = []\n",
    "    if node.right != None:\n",
    "        topList.extend(topNKeys(node.right, n))\n",
    "    if (len(topList) < n):\n",
    "        topList.append(node.key)\n",
    "    if (len(topList) < n):\n",
    "        if node.left != None:\n",
    "            topList.extend(topNKeys(node.left, n))\n",
    "    return topList\n",
    "\n",
    "topNKeys(tree.root, 4)[3]"
   ]
  }
 ],
 "metadata": {
  "kernelspec": {
   "display_name": "Python 3 (ipykernel)",
   "language": "python",
   "name": "python3"
  },
  "language_info": {
   "codemirror_mode": {
    "name": "ipython",
    "version": 3
   },
   "file_extension": ".py",
   "mimetype": "text/x-python",
   "name": "python",
   "nbconvert_exporter": "python",
   "pygments_lexer": "ipython3",
   "version": "3.10.12"
  }
 },
 "nbformat": 4,
 "nbformat_minor": 5
}
